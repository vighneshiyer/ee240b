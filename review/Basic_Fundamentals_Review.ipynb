{
 "cells": [
  {
   "cell_type": "code",
   "execution_count": 6,
   "metadata": {},
   "outputs": [],
   "source": [
    "import sympy as sp\n",
    "sp.init_printing()"
   ]
  },
  {
   "cell_type": "code",
   "execution_count": 20,
   "metadata": {},
   "outputs": [
    {
     "data": {
      "image/png": "[encoded data removed]",
      "text/latex": [
       "$$\\frac{R_{L} \\left(R_{1} V_{s} + R_{2} V_{i}\\right)}{R_{1} R_{2} + R_{1} R_{L} + R_{2} R_{L}}$$"
      ],
      "text/plain": [
       "  R_L⋅(R₁⋅Vₛ + R₂⋅Vᵢ)  \n",
       "───────────────────────\n",
       "R₁⋅R₂ + R₁⋅R_L + R₂⋅R_L"
      ]
     },
     "metadata": {},
     "output_type": "display_data"
    }
   ],
   "source": [
    "# Generalized voltage divider\n",
    "vi, vo, i1, i2, i3, vs, R1, R2, RL = sp.symbols(\"V_i V_o I_1 I_2 I_3 V_s R_1 R_2 R_L\")\n",
    "sol = sp.nonlinsolve([\n",
    "    vo - vi + i1*R1,\n",
    "    i1 - i2 - i3,\n",
    "    i2*R2 - vo + vs,\n",
    "    vo - i3*RL\n",
    "], (vo, i1, i2, i3))\n",
    "#sol = sol.subs(vs, 0)\n",
    "display(sol.args[0][0].simplify())"
   ]
  },
  {
   "cell_type": "code",
   "execution_count": null,
   "metadata": {},
   "outputs": [],
   "source": []
  }
 ],
 "metadata": {
  "kernelspec": {
   "display_name": "Python 3",
   "language": "python",
   "name": "python3"
  },
  "language_info": {
   "codemirror_mode": {
    "name": "ipython",
    "version": 3
   },
   "file_extension": ".py",
   "mimetype": "text/x-python",
   "name": "python",
   "nbconvert_exporter": "python",
   "pygments_lexer": "ipython3",
   "version": "3.6.5"
  }
 },
 "nbformat": 4,
 "nbformat_minor": 2
}
