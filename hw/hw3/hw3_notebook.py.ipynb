{
 "cells": [
  {
   "cell_type": "code",
   "execution_count": 6,
   "metadata": {},
   "outputs": [],
   "source": [
    "import sympy as sp\n",
    "sp.init_printing()"
   ]
  },
  {
   "cell_type": "code",
   "execution_count": 10,
   "metadata": {
    "scrolled": true
   },
   "outputs": [
    {
     "data": {
      "image/png": "[encoded data removed]",
      "text/latex": [
       "$$- \\frac{\\omega^{2} k \\left(C_{s} + \\frac{g_{m}}{\\omega_T}\\right)^{2}}{g_{m}^{2}} + \\frac{2 \\omega^{2} k \\left(C_{s} + \\frac{g_{m}}{\\omega_T}\\right)}{\\omega_T g_{m}}$$"
      ],
      "text/plain": [
       "                           2                              \n",
       "        2   ⎛        gₘ   ⎞            2   ⎛        gₘ   ⎞\n",
       "  \\omega ⋅k⋅⎜Cₛ + ────────⎟    2⋅\\omega ⋅k⋅⎜Cₛ + ────────⎟\n",
       "            ⎝     \\omega_T⎠                ⎝     \\omega_T⎠\n",
       "- ────────────────────────── + ───────────────────────────\n",
       "               2                       \\omega_T⋅gₘ        \n",
       "             gₘ                                           "
      ]
     },
     "metadata": {},
     "output_type": "display_data"
    },
    {
     "data": {
      "image/png": "[encoded data removed]",
      "text/latex": [
       "$$\\left\\{\\left ( - C_{s} \\omega_T\\right ), \\left ( C_{s} \\omega_T\\right )\\right\\}$$"
      ],
      "text/plain": [
       "{(-Cₛ⋅\\omega_T,), (Cₛ⋅\\omega_T,)}"
      ]
     },
     "execution_count": 10,
     "metadata": {},
     "output_type": "execute_result"
    }
   ],
   "source": [
    "# Problem 1 hacking\n",
    "k, w, Cs, gm, wT = sp.symbols('k \\omega C_s g_m \\omega_T', nonzero=True)\n",
    "d_dgm = (sp.diff(k * w**2 * (1/gm) * (Cs + (gm / wT))**2, gm))\n",
    "display(d_dgm)\n",
    "sp.nonlinsolve([\n",
    "    d_dgm\n",
    "], gm)"
   ]
  },
  {
   "cell_type": "code",
   "execution_count": 45,
   "metadata": {},
   "outputs": [
    {
     "data": {
      "image/png": "[encoded data removed]",
      "text/latex": [
       "$$\\frac{T k \\left(I_{d1} K \\gamma + \\frac{1}{R_{2}}\\right)}{C_{2} I_{d1} K} + \\frac{I_{d1} K R_{1} T k \\left(I_{d1} \\gamma + \\frac{1}{R_{1}}\\right)}{4 C_{1} C_{2}}$$"
      ],
      "text/plain": [
       "    ⎛                  1 ⎞                   ⎛                1 ⎞\n",
       "T⋅k⋅⎜I_{d1}⋅K⋅\\gamma + ──⎟   I_{d1}⋅K⋅R₁⋅T⋅k⋅⎜I_{d1}⋅\\gamma + ──⎟\n",
       "    ⎝                  R₂⎠                   ⎝                R₁⎠\n",
       "────────────────────────── + ────────────────────────────────────\n",
       "       C₂⋅I_{d1}⋅K                         4⋅C₁⋅C₂               "
      ]
     },
     "metadata": {},
     "output_type": "display_data"
    },
    {
     "data": {
      "image/png": "[encoded data removed]",
      "text/latex": [
       "$$\\frac{T \\gamma k}{C_{2} K} - \\frac{T k \\left(I_{d1} K \\gamma + \\frac{1}{R_{2}}\\right)}{C_{2} I_{d1} K^{2}} + \\frac{I_{d1} R_{1} T k \\left(I_{d1} \\gamma + \\frac{1}{R_{1}}\\right)}{4 C_{1} C_{2}}$$"
      ],
      "text/plain": [
       "                 ⎛                  1 ⎞                 ⎛                1 ⎞\n",
       "             T⋅k⋅⎜I_{d1}⋅K⋅\\gamma + ──⎟   I_{d1}⋅R₁⋅T⋅k⋅⎜I_{d1}⋅\\gamma + ──⎟\n",
       "T⋅\\gamma⋅k       ⎝                  R₂⎠                 ⎝                R₁⎠\n",
       "────────── - ────────────────────────── + ──────────────────────────────────\n",
       "   C₂⋅K                        2                       4⋅C₁⋅C₂              \n",
       "                    C₂⋅I_{d1}⋅K                                             "
      ]
     },
     "metadata": {},
     "output_type": "display_data"
    },
    {
     "data": {
      "image/png": "[encoded data removed]",
      "text/latex": [
       "$$\\frac{2 \\sqrt{\\frac{1}{I_{d1} + 1}}}{I_{d1}}$$"
      ],
      "text/plain": [
       "      ____________\n",
       "     ╱     1      \n",
       "2⋅  ╱  ────────── \n",
       "  ╲╱   I_{d1} + 1 \n",
       "──────────────────\n",
       "      I_{d1}      "
      ]
     },
     "metadata": {},
     "output_type": "display_data"
    }
   ],
   "source": [
    "# Problem 2 noise derivative\n",
    "k, T, gm1, gm2, gamma, R1, R2, C1, C2, wp1, wp2, Av1, Av2 = sp.symbols(\n",
    "    'k T g_{m1} g_{m2} \\gamma R_1 R_2 C_1 C_2 \\omega_{p1} \\omega_{p2} A_{v1} A_{v2}')\n",
    "noise = 4*k*T*(gm2*gamma + (1/R2))* (1/gm2)**2 * (wp2 / 4) + \\\n",
    "    4*k*T*(gm1*gamma + (1/R1))* R1**2 * Av2**2 * ((wp1*wp2)/16)\n",
    "Id1, K = sp.symbols('I_{d1} K', nonzero=True)\n",
    "noise = noise.subs(wp1, 1 / (R1*C1))\n",
    "noise = noise.subs(wp2, gm2 / C2)\n",
    "noise = noise.subs(Av1, gm1*R1)\n",
    "noise = noise.subs(Av2, 1)\n",
    "noise = noise.subs(gm1, Id1)\n",
    "noise = noise.subs(gm2, Id1*K)\n",
    "display(noise)\n",
    "display(noise.diff(K))\n",
    "sol = sp.nonlinsolve([\n",
    "    noise.diff(K)\n",
    "], K)\n",
    "sol_term = sol.args[0][0].args[0].args[1]\n",
    "sol_term = sol_term.subs({C1: 1, R2:1, R1:1, gamma:1})\n",
    "display(sol_term.simplify())"
   ]
  },
  {
   "cell_type": "code",
   "execution_count": 50,
   "metadata": {},
   "outputs": [
    {
     "data": {
      "image/png": "[encoded data removed]",
      "text/latex": [
       "$$\\left\\{\\left ( - \\frac{V_{n} \\left(R_{s} + Z\\right)}{R_{s}}, \\quad - V_{n}, \\quad - \\frac{V_{n}}{R_{s}}, \\quad 0, \\quad - \\frac{V_{n}}{R_{s}}\\right )\\right\\}$$"
      ],
      "text/plain": [
       "⎧⎛-Vₙ⋅(Rₛ + Z)        -Vₙ      -Vₙ ⎞⎫\n",
       "⎨⎜─────────────, -Vₙ, ────, 0, ────⎟⎬\n",
       "⎩⎝      Rₛ             Rₛ       Rₛ ⎠⎭"
      ]
     },
     "metadata": {},
     "output_type": "display_data"
    }
   ],
   "source": [
    "# Problem 3\n",
    "Vout, Vx, Vn, i1, i2, i3, Rs, Z = sp.symbols('V_{out} V_x V_n i_1 i_2 i_3 R_s Z')\n",
    "sol = sp.nonlinsolve([\n",
    "    Vx + Vn,\n",
    "    Vx - i1*Rs,\n",
    "    i1 - i3 - i2,\n",
    "    Vout - Vx - Z*i3,\n",
    "    i2\n",
    "], [Vout, Vx, i1, i2 , i3])\n",
    "display(sol)"
   ]
  }
 ],
 "metadata": {
  "kernelspec": {
   "display_name": "Python 3",
   "language": "python",
   "name": "python3"
  },
  "language_info": {
   "codemirror_mode": {
    "name": "ipython",
    "version": 3
   },
   "file_extension": ".py",
   "mimetype": "text/x-python",
   "name": "python",
   "nbconvert_exporter": "python",
   "pygments_lexer": "ipython3",
   "version": "3.6.5"
  }
 },
 "nbformat": 4,
 "nbformat_minor": 2
}
