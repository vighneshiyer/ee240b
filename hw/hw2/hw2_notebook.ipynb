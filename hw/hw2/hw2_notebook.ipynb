{
 "cells": [
  {
   "cell_type": "code",
   "execution_count": 1,
   "metadata": {},
   "outputs": [],
   "source": [
    "from sympy import *\n",
    "from sympy import init_printing\n",
    "init_printing()\n",
    "def ll(a, b):\n",
    "    return (a*b) / (a + b)"
   ]
  },
  {
   "cell_type": "code",
   "execution_count": 2,
   "metadata": {},
   "outputs": [
    {
     "data": {
      "image/png": "[encoded data removed]",
      "text/latex": [
       "$$R_{s} g_{m} r_{o} + R_{s} + r_{o}$$"
      ],
      "text/plain": [
       "Rₛ⋅gₘ⋅rₒ + Rₛ + rₒ"
      ]
     },
     "metadata": {},
     "output_type": "display_data"
    }
   ],
   "source": [
    "# Problem 2: Resistance looking into drain of source-degenerated NMOS (re-derivation as a test)\n",
    "i1,i2,i3 = symbols(\"i1 i2 i3\")\n",
    "vtest, vs, gm, Rs, ro, itest = symbols(\"v_{test} V_s g_m R_s r_o, i_{test}\")\n",
    "sol = nonlinsolve([\n",
    "    i1 + i2 - i3,\n",
    "    itest + i1 + i2,\n",
    "    i2 - (vtest - vs)/ro,\n",
    "    i1 + gm*vs,\n",
    "    i3 - vs/Rs\n",
    "], [i1, i2, i3, vtest, vs, itest])\n",
    "itest = sol.args[0][5]\n",
    "rout = vtest / -itest\n",
    "display(rout.simplify())"
   ]
  },
  {
   "cell_type": "code",
   "execution_count": 3,
   "metadata": {},
   "outputs": [
    {
     "data": {
      "image/png": "[encoded data removed]",
      "text/latex": [
       "$$- \\frac{R_{L} g_{m}}{\\left(R_{s} g_{m} + 1\\right) \\left(C_{L} R_{L} s + 1\\right)}$$"
      ],
      "text/plain": [
       "          -R_L⋅gₘ          \n",
       "───────────────────────────\n",
       "(Rₛ⋅gₘ + 1)⋅(C_L⋅R_L⋅s + 1)"
      ]
     },
     "metadata": {},
     "output_type": "display_data"
    }
   ],
   "source": [
    "# Problem 2a: Naive Gain of CS-amp with degeneration and complex R_L || C_L load (ignoring C_gs)\n",
    "s, RL, CL = symbols(\"s R_L C_L\")\n",
    "ZL = RL / (1 + s*RL*CL)\n",
    "av = - (gm * ZL) / (1 + gm*Rs)\n",
    "display(av.simplify())"
   ]
  },
  {
   "cell_type": "code",
   "execution_count": 4,
   "metadata": {},
   "outputs": [
    {
     "name": "stdout",
     "output_type": "stream",
     "text": [
      "- \\frac{R_{L} g_{m}}{\\left(C_{L} R_{L} s + 1\\right) \\left(C_{gs} R_{s} s + R_{s} g_{m} + 1\\right)}\n"
     ]
    }
   ],
   "source": [
    "# Problem 2a: Proper gain derivation (considering C_gs)\n",
    "def derive_cs_gain():\n",
    "    s, RL, CL, ZL, Cgs, Rs, gm = symbols(\"s R_L C_L Z_L C_{gs} R_s g_m\")\n",
    "    igate, isource, idrain = symbols(\"i_g i_s i_d\")\n",
    "    vs, vd, vi = symbols(\"v_s v_d v_i\")\n",
    "    sol = nonlinsolve([\n",
    "        igate - ((vi - vs) / (1 / (s*Cgs))),\n",
    "        isource - (vs / Rs),\n",
    "        idrain - gm*(vi - vs),\n",
    "        -vd - idrain*ZL,\n",
    "        isource - igate - idrain\n",
    "    ], [igate, isource, idrain, vd, vs])\n",
    "    vd_sol = sol.args[0][3]\n",
    "    gain = vd_sol / vi\n",
    "    ZL_sol = ll(CL, RL)\n",
    "    ZL_sol = ZL_sol.subs(CL, (1 / (s*CL))).simplify()\n",
    "    gain = gain.subs(ZL, ZL_sol).simplify()\n",
    "    return gain\n",
    "print(latex(derive_cs_gain()))"
   ]
  },
  {
   "cell_type": "code",
   "execution_count": 42,
   "metadata": {},
   "outputs": [
    {
     "name": "stdout",
     "output_type": "stream",
     "text": [
      "\\frac{R_{L} g_{m} v_{nS}}{\\left(C_{L} R_{L} s + 1\\right) \\left(C_{gs} R_{s} s + R_{s} g_{m} + 1\\right)}\n",
      "\\frac{R_{L} i_{nL}}{C_{L} R_{L} s + 1}\n",
      "- \\frac{R_{L} i_{nT} \\left(C_{gs} R_{s} s + 1\\right)}{\\left(C_{L} R_{L} s + 1\\right) \\left(C_{gs} R_{s} s + R_{s} g_{m} + 1\\right)}\n"
     ]
    }
   ],
   "source": [
    "# Problem 2b: Derive noise contribution of Rs, RL, and the transistor to the total output noise voltage\n",
    "def derive_Rs_noise_to_output():\n",
    "    s, RL, CL, ZL, Cgs, Rs, gm = symbols(\"s R_L C_L Z_L C_{gs} R_s g_m\")\n",
    "    igate, isource, idrain = symbols(\"i_g i_s i_d\")\n",
    "    vs, vd, vns = symbols(\"v_s v_d v_{nS}\")\n",
    "    sol = nonlinsolve([\n",
    "        igate - (vs / (1 / (s * Cgs))),\n",
    "        isource - ((vns - vs) / Rs),\n",
    "        idrain + gm*vs,\n",
    "        vd + idrain*ZL,\n",
    "        idrain + isource - igate\n",
    "    ], [igate, isource, idrain, vd, vs])\n",
    "    vd_sol = sol.args[0][3]\n",
    "    ZL_sol = ll(CL, RL)\n",
    "    ZL_sol = ZL_sol.subs(CL, (1 / (s*CL))).simplify()\n",
    "    noise_out = vd_sol.subs(ZL, ZL_sol).simplify()\n",
    "    return noise_out\n",
    "Rs_noise = derive_Rs_noise_to_output()\n",
    "print(latex(Rs_noise))\n",
    "def derive_RL_noise_to_output():\n",
    "    s, RL, CL, Cgs, Rs, gm = symbols(\"s R_L C_L C_{gs} R_s g_m\")\n",
    "    idrain, inoise, iL = symbols(\"i_d i_{nL} i_L\")\n",
    "    vs, vd = symbols(\"v_s v_d\")\n",
    "    sol = nonlinsolve([\n",
    "        inoise + iL - idrain,\n",
    "        idrain + gm*vs,\n",
    "        vs - (ll(Rs, (1/(s*Cgs)))*idrain),\n",
    "        vd + (ll(RL, (1/(s*CL)))*iL)\n",
    "    ], [idrain, iL, vs, vd])\n",
    "    return sol.args[0][3]\n",
    "RL_noise = derive_RL_noise_to_output()\n",
    "print(latex(RL_noise))\n",
    "def derive_t_noise_to_output():\n",
    "    s, RL, CL, Cgs, Rs, gm = symbols(\"s R_L C_L C_{gs} R_s g_m\")\n",
    "    idrain, inoise, isource = symbols(\"i_d i_{nT} i_s\")\n",
    "    vs, vd = symbols(\"v_s v_d\")\n",
    "    sol = nonlinsolve([\n",
    "        idrain + gm*vs - inoise,\n",
    "        isource - (vs / ll(Rs, (1/(s*Cgs)))),\n",
    "        vd + idrain*(ll(RL, (1/(s*CL)))),\n",
    "        isource - idrain\n",
    "    ], [idrain, isource, vs, vd])\n",
    "    return sol.args[0][3]\n",
    "t_noise = derive_t_noise_to_output()\n",
    "print(latex(t_noise))"
   ]
  },
  {
   "cell_type": "code",
   "execution_count": 53,
   "metadata": {},
   "outputs": [],
   "source": [
    "# Reproduce variables to substitute them\n",
    "vns, iL, inoise, T, K, q, Id, Cgs, CL = symbols(\"v_{nS} i_{nL} i_{nT} T K q, I_d C_{gs} C_L\")\n",
    "#Rs_noise = (Rs_noise**2).subs(vns, 4*K*T*Rs)\n",
    "#RL_noise = (RL_noise**2).subs(iL, 4*K*T / RL)\n",
    "#t_noise = (t_noise**2).subs(inoise, 2*q*Id)\n",
    "\n",
    "total_noise = (Rs_noise + RL_noise + t_noise).simplify()"
   ]
  },
  {
   "cell_type": "code",
   "execution_count": 54,
   "metadata": {},
   "outputs": [
    {
     "data": {
      "image/png": "[encoded data removed]",
      "text/latex": [
       "$$\\frac{R_{L} i_{nL}}{C_{L} R_{L} s + 1}$$"
      ],
      "text/plain": [
       "  R_L⋅i_{nL} \n",
       "─────────────\n",
       "C_L⋅R_L⋅s + 1"
      ]
     },
     "metadata": {},
     "output_type": "display_data"
    },
    {
     "data": {
      "image/png": "[encoded data removed]",
      "text/latex": [
       "$$- \\frac{R_{L}^{2} i_{nL}^{2}}{\\infty i C_{L}^{2} R_{L}^{2} + C_{L} R_{L}} + \\frac{R_{L} i_{nL}^{2}}{C_{L}}$$"
      ],
      "text/plain": [
       "           2       2                  2\n",
       "        R_L ⋅i_{nL}         R_L⋅i_{nL} \n",
       "- ─────────────────────── + ───────────\n",
       "         2    2                 C_L    \n",
       "  ∞⋅ⅈ⋅C_L ⋅R_L  + C_L⋅R_L              "
      ]
     },
     "execution_count": 54,
     "metadata": {},
     "output_type": "execute_result"
    }
   ],
   "source": [
    "display(RL_noise)\n",
    "b = symbols(\"b\")\n",
    "integrate(RL_noise**2, (s, 0, I*b)).subs(b, +oo)"
   ]
  },
  {
   "cell_type": "code",
   "execution_count": 69,
   "metadata": {},
   "outputs": [
    {
     "name": "stdout",
     "output_type": "stream",
     "text": [
      "\\frac{2 R_{L} \\left(I_{d} R_{L} q + 2 K R_{L} R_{s} T g_{m}^{2} + 2 K T \\left(R_{s} g_{m} + 1\\right)^{2}\\right)}{\\left(R_{s} g_{m} + 1\\right)^{2}}\n"
     ]
    }
   ],
   "source": [
    "# Problem 2e, find minimum detectable signal power (by re-using the noise expressions with Cgs,CL = 0)\n",
    "Rs_noise_lowf = Rs_noise.subs(Cgs, 0).subs(CL, 0).subs(vns, sqrt(4*K*T*Rs))\n",
    "RL_noise_lowf = RL_noise.subs(Cgs, 0).subs(CL, 0).subs(iL, sqrt(4*K*T / RL))\n",
    "t_noise_lowf = t_noise.subs(Cgs, 0).subs(CL, 0).subs(inoise, sqrt(2*q*Id))\n",
    "\n",
    "total_noise_lowf = (Rs_noise_lowf**2 + RL_noise_lowf**2 + t_noise_lowf**2).simplify()\n",
    "print(latex(total_noise_lowf))"
   ]
  },
  {
   "cell_type": "code",
   "execution_count": null,
   "metadata": {},
   "outputs": [],
   "source": [
    "# Problem 3, Rin\n",
    "i1,i2,i3 = symbols(\"i1 i2 i3\")\n",
    "vtest, vx, gm, Rf, ro = symbols(\"V_{test} V_x g_m R_f r_o\")\n",
    "sol = nonlinsolve([\n",
    "    i1 - (vtest - vx)/Rf,\n",
    "    i2 - gm*vtest,\n",
    "    i3 - (vx / ro),\n",
    "    i1 - i2 - i3\n",
    "], [i1, i2, i3, vx, vtest])\n",
    "display(sol)"
   ]
  },
  {
   "cell_type": "code",
   "execution_count": 50,
   "metadata": {},
   "outputs": [
    {
     "data": {
      "image/png": "[encoded data removed]",
      "text/latex": [
       "$$\\left\\{\\left ( - \\frac{V_{n} g_{m}}{R_{s} g_{m} - 1}, \\quad - \\frac{V_{n} g_{m}}{R_{s} g_{m} - 1} + \\frac{\\frac{R_{f} V_{n} g_{m}}{R_{s} g_{m} - 1} + \\frac{V_{n}}{R_{s} g_{m} - 1}}{r_{o}}, \\quad - \\frac{\\frac{R_{f} V_{n} g_{m}}{R_{s} g_{m} - 1} + \\frac{V_{n}}{R_{s} g_{m} - 1}}{r_{o}}, \\quad - \\frac{R_{f} V_{n} g_{m}}{R_{s} g_{m} - 1} - \\frac{V_{n}}{R_{s} g_{m} - 1}, \\quad V_{test}, \\quad - \\frac{V_{n}}{R_{s} g_{m} - 1}\\right )\\right\\}$$"
      ],
      "text/plain": [
       "⎧⎛                         R_f⋅Vₙ⋅gₘ       Vₙ      ⎛R_f⋅Vₙ⋅gₘ       Vₙ   ⎞    \n",
       "⎪⎜                         ───────── + ─────────  -⎜───────── + ─────────⎟    \n",
       "⎨⎜ -Vₙ⋅gₘ        Vₙ⋅gₘ     Rₛ⋅gₘ - 1   Rₛ⋅gₘ - 1   ⎝Rₛ⋅gₘ - 1   Rₛ⋅gₘ - 1⎠    \n",
       "⎪⎜─────────, - ───────── + ─────────────────────, ─────────────────────────, -\n",
       "⎩⎝Rₛ⋅gₘ - 1    Rₛ⋅gₘ - 1             rₒ                       rₒ              \n",
       "\n",
       "                                           ⎞⎫\n",
       "                                           ⎟⎪\n",
       " R_f⋅Vₙ⋅gₘ       Vₙ                  -Vₙ   ⎟⎬\n",
       " ───────── - ─────────, V_{test}, ─────────⎟⎪\n",
       " Rₛ⋅gₘ - 1   Rₛ⋅gₘ - 1            Rₛ⋅gₘ - 1⎠⎭"
      ]
     },
     "metadata": {},
     "output_type": "display_data"
    },
    {
     "data": {
      "image/png": "[encoded data removed]",
      "text/latex": [
       "$$- \\frac{R_{f} g_{m} + 1}{R_{s} g_{m} - 1}$$"
      ],
      "text/plain": [
       "-(R_f⋅gₘ + 1) \n",
       "──────────────\n",
       "  Rₛ⋅gₘ - 1   "
      ]
     },
     "metadata": {},
     "output_type": "display_data"
    },
    {
     "data": {
      "image/png": "[encoded data removed]",
      "text/latex": [
       "$$\\frac{\\left(R_{f} g_{m} + 1\\right) \\left(g_{m} r_{o} + 1\\right)}{g_{m} r_{o} - g_{m} \\left(R_{f} + r_{o}\\right) + 1}$$"
      ],
      "text/plain": [
       " (R_f⋅gₘ + 1)⋅(gₘ⋅rₒ + 1)\n",
       "─────────────────────────\n",
       "gₘ⋅rₒ - gₘ⋅(R_f + rₒ) + 1"
      ]
     },
     "metadata": {},
     "output_type": "display_data"
    }
   ],
   "source": [
    "# Problem 3, Rs noise gain\n",
    "i1,i2,i3 = symbols(\"i1 i2 i3\")\n",
    "vtest, vx, Vgs, vn, gm, Rf, ro = symbols(\"V_{test} V_x V_{gs} V_n g_m R_f r_o\")\n",
    "sol = nonlinsolve([\n",
    "    Vgs - i1*Rs - vn,\n",
    "    i1 - i2 - i3,\n",
    "    (vx - Vgs)/Rf - i1,\n",
    "    i1 - gm*Vgs,\n",
    "    i3 - vx/ro\n",
    "], [i1, i2, i3, vx, vtest, Vgs])\n",
    "display(sol)\n",
    "Rs_noise_gain = sol.args[0][3] / vn\n",
    "Rs_noise_gain = Rs_noise_gain.simplify()\n",
    "Rs_noise_gain_match = Rs_noise_gain.subs(Rs, (ro + Rf) / (1 + ro*gm))\n",
    "display(Rs_noise_gain)\n",
    "display(Rs_noise_gain_match.simplify())"
   ]
  },
  {
   "cell_type": "code",
   "execution_count": null,
   "metadata": {},
   "outputs": [],
   "source": []
  }
 ],
 "metadata": {
  "kernelspec": {
   "display_name": "Python 3",
   "language": "python",
   "name": "python3"
  },
  "language_info": {
   "codemirror_mode": {
    "name": "ipython",
    "version": 3
   },
   "file_extension": ".py",
   "mimetype": "text/x-python",
   "name": "python",
   "nbconvert_exporter": "python",
   "pygments_lexer": "ipython3",
   "version": "3.6.5"
  }
 },
 "nbformat": 4,
 "nbformat_minor": 2
}
