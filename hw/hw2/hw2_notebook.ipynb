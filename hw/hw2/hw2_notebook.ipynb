{
 "cells": [
  {
   "cell_type": "code",
   "execution_count": 24,
   "metadata": {},
   "outputs": [],
   "source": [
    "from sympy import *\n",
    "from sympy import init_printing\n",
    "init_printing()\n",
    "def ll(a, b):\n",
    "    return (a*b) / (a + b)"
   ]
  },
  {
   "cell_type": "code",
   "execution_count": 10,
   "metadata": {},
   "outputs": [
    {
     "data": {
      "image/png": "[encoded data removed]",
      "text/latex": [
       "$$R_{s} g_{m} r_{o} + R_{s} + r_{o}$$"
      ],
      "text/plain": [
       "Rₛ⋅gₘ⋅rₒ + Rₛ + rₒ"
      ]
     },
     "metadata": {},
     "output_type": "display_data"
    }
   ],
   "source": [
    "# Problem 2: Resistance looking into drain of source-degenerated NMOS (re-derivation as a test)\n",
    "i1,i2,i3 = symbols(\"i1 i2 i3\")\n",
    "vtest, vs, gm, Rs, ro, itest = symbols(\"v_{test} V_s g_m R_s r_o, i_{test}\")\n",
    "sol = nonlinsolve([\n",
    "    i1 + i2 - i3,\n",
    "    itest + i1 + i2,\n",
    "    i2 - (vtest - vs)/ro,\n",
    "    i1 + gm*vs,\n",
    "    i3 - vs/Rs\n",
    "], [i1, i2, i3, vtest, vs, itest])\n",
    "itest = sol.args[0][5]\n",
    "rout = vtest / -itest\n",
    "display(rout.simplify())"
   ]
  },
  {
   "cell_type": "code",
   "execution_count": 15,
   "metadata": {},
   "outputs": [
    {
     "data": {
      "image/png": "[encoded data removed]",
      "text/latex": [
       "$$- \\frac{R_{L} g_{m}}{\\left(R_{s} g_{m} + 1\\right) \\left(C_{L} R_{L} s + 1\\right)}$$"
      ],
      "text/plain": [
       "          -R_L⋅gₘ          \n",
       "───────────────────────────\n",
       "(Rₛ⋅gₘ + 1)⋅(C_L⋅R_L⋅s + 1)"
      ]
     },
     "metadata": {},
     "output_type": "display_data"
    }
   ],
   "source": [
    "# Problem 2a: Naive Gain of CS-amp with degeneration and complex R_L || C_L load (ignoring C_gs)\n",
    "s, RL, CL = symbols(\"s R_L C_L\")\n",
    "ZL = RL / (1 + s*RL*CL)\n",
    "av = - (gm * ZL) / (1 + gm*Rs)\n",
    "display(av.simplify())"
   ]
  },
  {
   "cell_type": "code",
   "execution_count": 32,
   "metadata": {},
   "outputs": [
    {
     "data": {
      "image/png": "[encoded data removed]",
      "text/latex": [
       "$$\\left\\{\\left ( \\frac{C_{gs} s v_{i}}{C_{gs} R_{s} s + R_{s} g_{m} + 1}, \\quad \\frac{v_{i} \\left(C_{gs} s + g_{m}\\right)}{C_{gs} R_{s} s + R_{s} g_{m} + 1}, \\quad \\frac{g_{m} v_{i}}{C_{gs} R_{s} s + R_{s} g_{m} + 1}, \\quad - \\frac{Z_{L} g_{m} v_{i}}{C_{gs} R_{s} s + R_{s} g_{m} + 1}, \\quad \\frac{R_{s} v_{i} \\left(C_{gs} s + g_{m}\\right)}{C_{gs} R_{s} s + R_{s} g_{m} + 1}\\right )\\right\\}$$"
      ],
      "text/plain": [
       "⎧⎛      C_{gs}⋅s⋅vᵢ           vᵢ⋅(C_{gs}⋅s + gₘ)             gₘ⋅vᵢ            \n",
       "⎨⎜───────────────────────, ───────────────────────, ───────────────────────, ─\n",
       "⎩⎝C_{gs}⋅Rₛ⋅s + Rₛ⋅gₘ + 1  C_{gs}⋅Rₛ⋅s + Rₛ⋅gₘ + 1  C_{gs}⋅Rₛ⋅s + Rₛ⋅gₘ + 1  C\n",
       "\n",
       "     -Z_L⋅gₘ⋅vᵢ          Rₛ⋅vᵢ⋅(C_{gs}⋅s + gₘ) ⎞⎫\n",
       "──────────────────────, ───────────────────────⎟⎬\n",
       "_{gs}⋅Rₛ⋅s + Rₛ⋅gₘ + 1  C_{gs}⋅Rₛ⋅s + Rₛ⋅gₘ + 1⎠⎭"
      ]
     },
     "metadata": {},
     "output_type": "display_data"
    },
    {
     "data": {
      "image/png": "[encoded data removed]",
      "text/latex": [
       "$$- \\frac{R_{L} g_{m}}{\\left(C_{L} R_{L} s + 1\\right) \\left(C_{gs} R_{s} s + R_{s} g_{m} + 1\\right)}$$"
      ],
      "text/plain": [
       "                 -R_L⋅gₘ                 \n",
       "─────────────────────────────────────────\n",
       "(C_L⋅R_L⋅s + 1)⋅(C_{gs}⋅Rₛ⋅s + Rₛ⋅gₘ + 1)"
      ]
     },
     "metadata": {},
     "output_type": "display_data"
    },
    {
     "name": "stdout",
     "output_type": "stream",
     "text": [
      "- \\frac{R_{L} g_{m}}{\\left(C_{L} R_{L} s + 1\\right) \\left(C_{gs} R_{s} s + R_{s} g_{m} + 1\\right)}\n"
     ]
    }
   ],
   "source": [
    "# Problem 2a: Proper gain derivation (considering C_gs)\n",
    "s, RL, CL, ZL, Cgs, Rs, gm = symbols(\"s R_L C_L Z_L C_{gs} R_s g_m\")\n",
    "igate, isource, idrain = symbols(\"i_g i_s i_d\")\n",
    "vs, vd, vi = symbols(\"v_s v_d v_i\")\n",
    "sol = nonlinsolve([\n",
    "    igate - ((vi - vs) / (1 / (s*Cgs))),\n",
    "    isource - (vs / Rs),\n",
    "    idrain - gm*(vi - vs),\n",
    "    -vd - idrain*ZL,\n",
    "    isource - igate - idrain\n",
    "], [igate, isource, idrain, vd, vs])\n",
    "display(sol)\n",
    "vd_sol = sol.args[0][3]\n",
    "gain = vd_sol / vi\n",
    "ZL_sol = ll(CL, RL)\n",
    "ZL_sol = ZL_sol.subs(CL, (1 / (s*CL))).simplify()\n",
    "gain = gain.subs(ZL, ZL_sol).simplify()\n",
    "display(gain)\n",
    "print(latex(gain))"
   ]
  },
  {
   "cell_type": "code",
   "execution_count": 38,
   "metadata": {},
   "outputs": [
    {
     "data": {
      "image/png": "[encoded data removed]",
      "text/latex": [
       "$$\\left\\{\\left ( - \\frac{g_{m} i_{3} \\left(R_{f} + r_{o}\\right)}{R_{f} g_{m} - 1} + i_{3}, \\quad - \\frac{g_{m} i_{3} \\left(R_{f} + r_{o}\\right)}{R_{f} g_{m} - 1}, \\quad i_{3}, \\quad i_{3} r_{o}, \\quad - \\frac{i_{3} \\left(R_{f} + r_{o}\\right)}{R_{f} g_{m} - 1}\\right )\\right\\}$$"
      ],
      "text/plain": [
       "⎧⎛  gₘ⋅i₃⋅(R_f + rₒ)       -gₘ⋅i₃⋅(R_f + rₒ)              -i₃⋅(R_f + rₒ) ⎞⎫\n",
       "⎨⎜- ──────────────── + i₃, ──────────────────, i₃, i₃⋅rₒ, ───────────────⎟⎬\n",
       "⎩⎝     R_f⋅gₘ - 1              R_f⋅gₘ - 1                    R_f⋅gₘ - 1  ⎠⎭"
      ]
     },
     "metadata": {},
     "output_type": "display_data"
    }
   ],
   "source": [
    "i1,i2,i3 = symbols(\"i1 i2 i3\")\n",
    "vtest, vx, gm, Rf, ro = symbols(\"V_{test} V_x g_m R_f r_o\")\n",
    "sol = nonlinsolve([\n",
    "    i1 - (vtest - vx)/Rf,\n",
    "    i2 - gm*vtest,\n",
    "    i3 - (vx / ro),\n",
    "    i1 - i2 - i3\n",
    "], [i1, i2, i3, vx, vtest])\n",
    "display(sol)"
   ]
  },
  {
   "cell_type": "code",
   "execution_count": 50,
   "metadata": {},
   "outputs": [
    {
     "data": {
      "image/png": "[encoded data removed]",
      "text/latex": [
       "$$\\left\\{\\left ( - \\frac{V_{n} g_{m}}{R_{s} g_{m} - 1}, \\quad - \\frac{V_{n} g_{m}}{R_{s} g_{m} - 1} + \\frac{\\frac{R_{f} V_{n} g_{m}}{R_{s} g_{m} - 1} + \\frac{V_{n}}{R_{s} g_{m} - 1}}{r_{o}}, \\quad - \\frac{\\frac{R_{f} V_{n} g_{m}}{R_{s} g_{m} - 1} + \\frac{V_{n}}{R_{s} g_{m} - 1}}{r_{o}}, \\quad - \\frac{R_{f} V_{n} g_{m}}{R_{s} g_{m} - 1} - \\frac{V_{n}}{R_{s} g_{m} - 1}, \\quad V_{test}, \\quad - \\frac{V_{n}}{R_{s} g_{m} - 1}\\right )\\right\\}$$"
      ],
      "text/plain": [
       "⎧⎛                         R_f⋅Vₙ⋅gₘ       Vₙ      ⎛R_f⋅Vₙ⋅gₘ       Vₙ   ⎞    \n",
       "⎪⎜                         ───────── + ─────────  -⎜───────── + ─────────⎟    \n",
       "⎨⎜ -Vₙ⋅gₘ        Vₙ⋅gₘ     Rₛ⋅gₘ - 1   Rₛ⋅gₘ - 1   ⎝Rₛ⋅gₘ - 1   Rₛ⋅gₘ - 1⎠    \n",
       "⎪⎜─────────, - ───────── + ─────────────────────, ─────────────────────────, -\n",
       "⎩⎝Rₛ⋅gₘ - 1    Rₛ⋅gₘ - 1             rₒ                       rₒ              \n",
       "\n",
       "                                           ⎞⎫\n",
       "                                           ⎟⎪\n",
       " R_f⋅Vₙ⋅gₘ       Vₙ                  -Vₙ   ⎟⎬\n",
       " ───────── - ─────────, V_{test}, ─────────⎟⎪\n",
       " Rₛ⋅gₘ - 1   Rₛ⋅gₘ - 1            Rₛ⋅gₘ - 1⎠⎭"
      ]
     },
     "metadata": {},
     "output_type": "display_data"
    },
    {
     "data": {
      "image/png": "[encoded data removed]",
      "text/latex": [
       "$$- \\frac{R_{f} g_{m} + 1}{R_{s} g_{m} - 1}$$"
      ],
      "text/plain": [
       "-(R_f⋅gₘ + 1) \n",
       "──────────────\n",
       "  Rₛ⋅gₘ - 1   "
      ]
     },
     "metadata": {},
     "output_type": "display_data"
    },
    {
     "data": {
      "image/png": "[encoded data removed]",
      "text/latex": [
       "$$\\frac{\\left(R_{f} g_{m} + 1\\right) \\left(g_{m} r_{o} + 1\\right)}{g_{m} r_{o} - g_{m} \\left(R_{f} + r_{o}\\right) + 1}$$"
      ],
      "text/plain": [
       " (R_f⋅gₘ + 1)⋅(gₘ⋅rₒ + 1)\n",
       "─────────────────────────\n",
       "gₘ⋅rₒ - gₘ⋅(R_f + rₒ) + 1"
      ]
     },
     "metadata": {},
     "output_type": "display_data"
    }
   ],
   "source": [
    "i1,i2,i3 = symbols(\"i1 i2 i3\")\n",
    "vtest, vx, Vgs, vn, gm, Rf, ro = symbols(\"V_{test} V_x V_{gs} V_n g_m R_f r_o\")\n",
    "sol = nonlinsolve([\n",
    "    Vgs - i1*Rs - vn,\n",
    "    i1 - i2 - i3,\n",
    "    (vx - Vgs)/Rf - i1,\n",
    "    i1 - gm*Vgs,\n",
    "    i3 - vx/ro\n",
    "], [i1, i2, i3, vx, vtest, Vgs])\n",
    "display(sol)\n",
    "Rs_noise_gain = sol.args[0][3] / vn\n",
    "Rs_noise_gain = Rs_noise_gain.simplify()\n",
    "Rs_noise_gain_match = Rs_noise_gain.subs(Rs, (ro + Rf) / (1 + ro*gm))\n",
    "display(Rs_noise_gain)\n",
    "display(Rs_noise_gain_match.simplify())"
   ]
  },
  {
   "cell_type": "code",
   "execution_count": null,
   "metadata": {},
   "outputs": [],
   "source": []
  }
 ],
 "metadata": {
  "kernelspec": {
   "display_name": "Python 3",
   "language": "python",
   "name": "python3"
  },
  "language_info": {
   "codemirror_mode": {
    "name": "ipython",
    "version": 3
   },
   "file_extension": ".py",
   "mimetype": "text/x-python",
   "name": "python",
   "nbconvert_exporter": "python",
   "pygments_lexer": "ipython3",
   "version": "3.6.5"
  }
 },
 "nbformat": 4,
 "nbformat_minor": 2
}
